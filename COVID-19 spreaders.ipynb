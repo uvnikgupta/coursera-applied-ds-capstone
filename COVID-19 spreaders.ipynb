{
 "cells": [
  {
   "cell_type": "markdown",
   "metadata": {},
   "source": [
    "# Segment and Cluster venues near hospitals to identify potential COVID-19 spreaders"
   ]
  },
  {
   "cell_type": "markdown",
   "metadata": {},
   "source": [
    "### Problem statement:\n",
    "Due to the current COVID-19 situation all the hospitals are overcrowded with many patients and their near and dear ones visting these hospitals. These patients or their visitors may potentially visit some areas of interest like recreational areas, cafe, eating joints etc. Such areas have the potential of spreading the desease. Hence if such areas are clustered and identified proactive sanitation and care can be executed to control the spread of the desease. \n",
    "##### Target audience and beneficieries\n",
    "The results of this analysis will be useful for the city municipal corporations in planning their sanitation drives. These areas can also be red marked visually so that the general public becomes aware and avoids such venues. "
   ]
  },
  {
   "cell_type": "markdown",
   "metadata": {},
   "source": [
    "### Data\n",
    "I'll use the Chicago, IL location. Using FourSquare venues API I'll search for the \"hospital\" venues. Then get the other venues within 500 meters of the hospitals. The venues will then be clustered based on their types and marked as per their spreading capability.\n",
    "##### Detailed description of the data\n",
    "For eg I'll fetch venues search API to search for all the hospitals and clinics in Chicago, IL, using the <a href= 'https://developer.foursquare.com/docs/api-reference/venues/search/'> search venues </a> foursquare API. Then within 500 meters of each of the hospital and clinic I'll get the trending venues using the <a href='https://developer.foursquare.com/docs/api-reference/venues/trending/'>trending venues</a> API and their categories using the <a href='https://developer.foursquare.com/docs/api-reference/venues/categories/'>venue categories</a> API. The venues will then be clustered using this data"
   ]
  },
  {
   "cell_type": "code",
   "execution_count": null,
   "metadata": {},
   "outputs": [],
   "source": []
  }
 ],
 "metadata": {
  "kernelspec": {
   "display_name": "Python 3",
   "language": "python",
   "name": "python3"
  },
  "language_info": {
   "codemirror_mode": {
    "name": "ipython",
    "version": 3
   },
   "file_extension": ".py",
   "mimetype": "text/x-python",
   "name": "python",
   "nbconvert_exporter": "python",
   "pygments_lexer": "ipython3",
   "version": "3.6.8"
  }
 },
 "nbformat": 4,
 "nbformat_minor": 4
}
